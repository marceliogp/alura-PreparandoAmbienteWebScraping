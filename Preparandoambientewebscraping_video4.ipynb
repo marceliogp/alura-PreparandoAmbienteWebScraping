{
  "cells": [
    {
      "cell_type": "markdown",
      "metadata": {
        "colab_type": "text",
        "id": "view-in-github"
      },
      "source": [
        "<a href=\"https://colab.research.google.com/github/marceliogp/alura-PreparandoAmbienteWebScraping/blob/main/Preparandoambientewebscraping_video4.ipynb\" target=\"_parent\"><img src=\"https://colab.research.google.com/assets/colab-badge.svg\" alt=\"Open In Colab\"/></a>"
      ]
    },
    {
      "cell_type": "code",
      "execution_count": null,
      "metadata": {
        "id": "VqG-G_MviA4c"
      },
      "outputs": [],
      "source": [
        "import requests\n",
        "import re"
      ]
    },
    {
      "cell_type": "code",
      "execution_count": null,
      "metadata": {
        "id": "8rbBeHC_kJS-"
      },
      "outputs": [],
      "source": [
        "url = \"https://monicahillman.github.io/monibank/\"\n",
        "response = requests.get(url)\n",
        "html_content = response.text"
      ]
    },
    {
      "cell_type": "code",
      "execution_count": null,
      "metadata": {
        "id": "yvdZwrl-kuj4"
      },
      "outputs": [],
      "source": [
        "pattern = r'<(h[1-2])[^>]*>(.*?)<\\/(h[1-2])>'\n",
        "\n",
        "headings = re.findall(pattern, html_content, re.DOTALL)\n",
        "for heading in headings:\n",
        "  print(heading)"
      ]
    }
  ],
  "metadata": {
    "colab": {
      "include_colab_link": true,
      "provenance": []
    },
    "kernelspec": {
      "display_name": "Python 3",
      "name": "python3"
    },
    "language_info": {
      "name": "python"
    }
  },
  "nbformat": 4,
  "nbformat_minor": 0
}
